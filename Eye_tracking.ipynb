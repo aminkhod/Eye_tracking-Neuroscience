{
 "cells": [
  {
   "cell_type": "code",
   "execution_count": 1,
   "metadata": {},
   "outputs": [
    {
     "name": "stdout",
     "output_type": "stream",
     "text": [
      "(120, 62)\n",
      "(104, 62)\n"
     ]
    }
   ],
   "source": [
    "import pandas as pd\n",
    "import numpy as np\n",
    "import matplotlib.pyplot as plt\n",
    "import seaborn as sns\n",
    "from sklearn.model_selection import train_test_split\n",
    "from sklearn import metrics\n",
    "from sklearn.linear_model import LogisticRegression\n",
    "from sklearn import preprocessing\n",
    "from sklearn.model_selection import LeaveOneOut\n",
    "from sklearn.naive_bayes import GaussianNB\n",
    "from sklearn import svm\n",
    "\n",
    "\n",
    "###reading data\n",
    "missing_value=['?']\n",
    "data = pd.read_csv(\"data/eye-tracking and others.csv\",na_values=missing_value, delimiter=\",\")\n",
    "\n",
    "# print(data.isnull().sum())\n",
    "print(data.shape)\n",
    "##removing missing values\n",
    "data.dropna(inplace=True)\n",
    "#16 row removed.\n",
    "print(data.shape)\n",
    "# data\n",
    "# CDT culomn is eliminated because this culomn is empty."
   ]
  },
  {
   "cell_type": "code",
   "execution_count": 4,
   "metadata": {},
   "outputs": [
    {
     "name": "stdout",
     "output_type": "stream",
     "text": [
      "(68, 61)\n"
     ]
    }
   ],
   "source": [
    "data1, data3 = data.copy(), data.copy()\n",
    "data1[\"group\"] = np.array([1 if yins ==2 else 0 if yins == 1 else np.nan for yins in data1.values[:,0]])\n",
    "data3[\"group\"] = np.array([1 if yins ==3 else 0 if yins == 1 else np.nan for yins in data3.values[:,0]])\n",
    "data1.dropna(inplace=True)\n",
    "data3.dropna(inplace=True)\n",
    "\n",
    "\n",
    "# X=data1.iloc[:,1:]\n",
    "# y=data1.iloc[:,0]\n",
    "\n",
    "# X = X.astype(np.float64)\n",
    "# y = y.astype(np.float64)\n",
    "\n",
    "X=data3.iloc[:,1:]\n",
    "y=data3.iloc[:,0]\n",
    "print(X.shape)\n",
    "\n",
    "###### Devide data to test and train\n",
    "X_train,X_test,y_train,y_test=train_test_split(X.values[:,:],y.values[:],test_size=0.2,random_state=25)\n",
    "\n",
    "#preprocessing\n",
    "scaler = preprocessing.StandardScaler().fit(X_train)\n",
    "X_train_transformed = scaler.transform(X_train)\n",
    "X_test_transformed = scaler.transform(X_test)\n",
    "X_transformed = scaler.transform(X)\n",
    "\n",
    "# c 49  dcmi 36 al 19"
   ]
  },
  {
   "cell_type": "code",
   "execution_count": 5,
   "metadata": {},
   "outputs": [],
   "source": [
    "methodList = []\n",
    "accList = []\n",
    "sensitivityList = []\n",
    "specificityList = []"
   ]
  },
  {
   "cell_type": "code",
   "execution_count": 6,
   "metadata": {
    "scrolled": false
   },
   "outputs": [
    {
     "name": "stdout",
     "output_type": "stream",
     "text": [
      "[[49  0]\n",
      " [ 0 19]]\n",
      "Logistic Regression Accuracy by LOOCV 1.0\n"
     ]
    },
    {
     "data": {
      "image/png": "[encoded data removed]",
      "text/plain": [
       "<Figure size 432x288 with 2 Axes>"
      ]
     },
     "metadata": {
      "needs_background": "light"
     },
     "output_type": "display_data"
    },
    {
     "name": "stdout",
     "output_type": "stream",
     "text": [
      "Logestic Regression sensitivity = [0. 1. 1.]and Logestic Regression specificity = [0. 0. 1.]\n"
     ]
    },
    {
     "data": {
      "image/png": "[encoded data removed]",
      "text/plain": [
       "<Figure size 432x288 with 1 Axes>"
      ]
     },
     "metadata": {
      "needs_background": "light"
     },
     "output_type": "display_data"
    }
   ],
   "source": [
    "loo = LeaveOneOut()\n",
    "loo.get_n_splits(X_transformed)\n",
    "loologreg = LogisticRegression()\n",
    "predicts=[]\n",
    "\n",
    "for train_index, test_index in loo.split(X_transformed):\n",
    "    X_train, X_test = X_transformed[train_index], X_transformed[test_index]\n",
    "    y_train, y_test = y.values[train_index], y.values[test_index]\n",
    "    loologregModel =loologreg.fit(X_train, np.array(list(y_train)))\n",
    "    predicts.append(loologreg.predict(X_test))\n",
    "\n",
    "predict = np.array(predicts)\n",
    "cnf_matrix = metrics.confusion_matrix(y.values[:], predict)\n",
    "\n",
    "print(cnf_matrix)\n",
    "\n",
    "acc = metrics.accuracy_score(y.values, predict)\n",
    "print(\"Logistic Regression Accuracy by LOOCV\", acc)\n",
    "\n",
    "# recall = metrics.recall_score(y, predict)\n",
    "# print(\"Logistic Regression Recall by LOOCV\", recall)\n",
    "#\n",
    "# precession = metrics.precision_score(y, predict)\n",
    "# print(\"Logistic Regression Precession by LOOCV\", precession)\n",
    "\n",
    "######ploting\n",
    "# import required modules\n",
    "\n",
    "\n",
    "#matplotlib inline\n",
    "class_names=[0,1] # name  of classes\n",
    "fig, ax = plt.subplots()\n",
    "tick_marks = np.arange(len(class_names))\n",
    "plt.xticks(tick_marks, class_names)\n",
    "plt.yticks(tick_marks, class_names)\n",
    "\n",
    "# create heatmap\n",
    "sns.heatmap(pd.DataFrame(cnf_matrix), annot=True, cmap=\"YlGnBu\" ,fmt='g')\n",
    "ax.xaxis.set_label_position(\"top\")\n",
    "plt.tight_layout()\n",
    "plt.title('Logestic Regression Confusion matrix', y=1.1)\n",
    "\n",
    "plt.ylabel('Actual label')\n",
    "plt.xlabel('Predicted label')\n",
    "\n",
    "plt.show()\n",
    "\n",
    "\n",
    "#### Roc Curve\n",
    "fpr, tpr, _ = metrics.roc_curve(y.values,  predict)\n",
    "auc = metrics.roc_auc_score(y, predict)\n",
    "print(\"Logestic Regression sensitivity = \"+str(tpr)+\"and Logestic Regression specificity = \"+str(fpr))\n",
    "plt.plot(fpr,tpr,label=\"Logistic Regression, AUC = \"+str(auc))\n",
    "plt.title(\"Logistic Regression ROC Curve\")\n",
    "plt.legend(loc=4)\n",
    "plt.show()\n",
    "\n",
    "methodList.append('Logistic Regression')\n",
    "accList.append(acc)\n",
    "sensitivityList.append(tpr[1])\n",
    "specificityList.append(1-fpr[1])"
   ]
  },
  {
   "cell_type": "code",
   "execution_count": 7,
   "metadata": {},
   "outputs": [
    {
     "name": "stdout",
     "output_type": "stream",
     "text": [
      "[[49  0]\n",
      " [ 1 18]]\n",
      "Gaussian Naive Bayes Accuracy by LOOCV 0.9852941176470589\n"
     ]
    },
    {
     "data": {
      "image/png": "[encoded data removed]",
      "text/plain": [
       "<Figure size 432x288 with 2 Axes>"
      ]
     },
     "metadata": {
      "needs_background": "light"
     },
     "output_type": "display_data"
    },
    {
     "name": "stdout",
     "output_type": "stream",
     "text": [
      "Gaussian Naive Bayes sensitivity = [0.         0.94736842 1.        ]and Gaussian Naive Bayes specificity = [0. 0. 1.]\n"
     ]
    },
    {
     "data": {
      "image/png": "[encoded data removed]",
      "text/plain": [
       "<Figure size 432x288 with 1 Axes>"
      ]
     },
     "metadata": {
      "needs_background": "light"
     },
     "output_type": "display_data"
    }
   ],
   "source": [
    "\n",
    "####GaussianNB\n",
    "\n",
    "loo = LeaveOneOut()\n",
    "loo.get_n_splits(X)\n",
    "loologreg = GaussianNB()\n",
    "predicts=[]\n",
    "for train_index, test_index in loo.split(X_transformed):\n",
    "    X_train, X_test = X_transformed[train_index], X_transformed[test_index]\n",
    "    y_train, y_test = y.values[train_index], y.values[test_index]\n",
    "    loologregModel =loologreg.fit(X_train, y_train)\n",
    "    predicts.append(loologreg.predict(X_test))\n",
    "\n",
    "predict = np.array(predicts)\n",
    "cnf_matrix = metrics.confusion_matrix(y, predict)\n",
    "\n",
    "print(cnf_matrix)\n",
    "\n",
    "acc = metrics.accuracy_score(y.values, predict)\n",
    "print(\"Gaussian Naive Bayes Accuracy by LOOCV\", acc)\n",
    "######ploting\n",
    "\n",
    "\n",
    "\n",
    "#matplotlib inline\n",
    "class_names=[0,1] # name  of classes\n",
    "fig, ax = plt.subplots()\n",
    "tick_marks = np.arange(len(class_names))\n",
    "plt.xticks(tick_marks, class_names)\n",
    "plt.yticks(tick_marks, class_names)\n",
    "\n",
    "# create heatmap\n",
    "sns.heatmap(pd.DataFrame(cnf_matrix), annot=True, cmap=\"YlGnBu\" ,fmt='g')\n",
    "ax.xaxis.set_label_position(\"top\")\n",
    "plt.tight_layout()\n",
    "plt.title('Gaussian Naive Bayes Confusion matrix', y=1.1)\n",
    "plt.ylabel('Actual label')\n",
    "plt.xlabel('Predicted label')\n",
    "\n",
    "plt.show()\n",
    "\n",
    "#### Roc Curve\n",
    "fpr, tpr, _ = metrics.roc_curve(y.values,  predict)\n",
    "auc = metrics.roc_auc_score(y, predict)\n",
    "print(\"Gaussian Naive Bayes sensitivity = \"+str(tpr)+\"and Gaussian Naive Bayes specificity = \"+str(fpr))\n",
    "plt.plot(fpr,tpr,label=\"Gaussian Naive Bayes, AUC = \"+str(auc))\n",
    "plt.title(\"Gaussian Naive Bayes ROC Curve\")\n",
    "plt.legend(loc=4)\n",
    "plt.show()\n",
    "\n",
    "methodList.append('Gaussian Naive Bayes')\n",
    "accList.append(acc)\n",
    "sensitivityList.append(tpr[1])\n",
    "specificityList.append(1-fpr[1])"
   ]
  },
  {
   "cell_type": "code",
   "execution_count": 8,
   "metadata": {},
   "outputs": [
    {
     "name": "stdout",
     "output_type": "stream",
     "text": [
      "[[49  0]\n",
      " [ 0 19]]\n",
      "Support Vector Machine Accuracy by LOOCV 1.0\n"
     ]
    },
    {
     "data": {
      "image/png": "[encoded data removed]",
      "text/plain": [
       "<Figure size 432x288 with 2 Axes>"
      ]
     },
     "metadata": {
      "needs_background": "light"
     },
     "output_type": "display_data"
    },
    {
     "name": "stdout",
     "output_type": "stream",
     "text": [
      "SVM sensitivity = [0. 1. 1.]and SVM specificity = [0. 0. 1.]\n"
     ]
    },
    {
     "data": {
      "image/png": "[encoded data removed]",
      "text/plain": [
       "<Figure size 432x288 with 1 Axes>"
      ]
     },
     "metadata": {
      "needs_background": "light"
     },
     "output_type": "display_data"
    }
   ],
   "source": [
    "\n",
    "###SVM\n",
    "loo = LeaveOneOut()\n",
    "loo.get_n_splits(X)\n",
    "loologreg = svmachine = svm.SVC(gamma='auto',kernel='rbf',degree=3)\n",
    "\n",
    "predicts=[]\n",
    "for train_index, test_index in loo.split(X_transformed):\n",
    "    X_train, X_test = X_transformed[train_index], X_transformed[test_index]\n",
    "    y_train, y_test = y.values[train_index], y.values[test_index]\n",
    "    loologregModel =loologreg.fit(X_train, y_train)\n",
    "    predicts.append(loologregModel.predict(X_test))\n",
    "\n",
    "predict = np.array(predicts)\n",
    "cnf_matrix = metrics.confusion_matrix(y.values, predict)\n",
    "\n",
    "print(cnf_matrix)\n",
    "\n",
    "acc = metrics.accuracy_score(y, predict)\n",
    "print(\"Support Vector Machine Accuracy by LOOCV\", acc)\n",
    "\n",
    "# recall = metrics.recall_score(y, predict)\n",
    "# print(\"Logistic Regression Recall by LOOCV\", recall)\n",
    "#\n",
    "# precession = metrics.precision_score(y, predict)\n",
    "# print(\"Logistic Regression Precession by LOOCV\", precession)\n",
    "\n",
    "######ploting\n",
    "\n",
    "\n",
    "\n",
    "#matplotlib inline\n",
    "class_names=[0,1] # name  of classes\n",
    "fig, ax = plt.subplots()\n",
    "tick_marks = np.arange(len(class_names))\n",
    "plt.xticks(tick_marks, class_names)\n",
    "plt.yticks(tick_marks, class_names)\n",
    "\n",
    "# create heatmap\n",
    "sns.heatmap(pd.DataFrame(cnf_matrix), annot=True, cmap=\"YlGnBu\" ,fmt='g')\n",
    "ax.xaxis.set_label_position(\"top\")\n",
    "plt.tight_layout()\n",
    "plt.title('Support Vector Machine Confusion matrix', y=1.1)\n",
    "plt.ylabel('Actual label')\n",
    "plt.xlabel('Predicted label')\n",
    "\n",
    "plt.show()\n",
    "\n",
    "#### Roc Curve\n",
    "\n",
    "fpr, tpr, _ = metrics.roc_curve(y.values,  predict)\n",
    "auc = metrics.roc_auc_score(y, predict)\n",
    "print(\"SVM sensitivity = \"+str(tpr)+\"and SVM specificity = \"+str(fpr))\n",
    "plt.plot(fpr,tpr,label=\"SVM, AUC = \"+str(auc))\n",
    "plt.title(\"Support Vector Machine ROC Curve\")\n",
    "plt.legend(loc=4)\n",
    "plt.show()\n",
    "\n",
    "methodList.append('Support Vector Machine')\n",
    "accList.append(acc)\n",
    "sensitivityList.append(tpr[1])\n",
    "specificityList.append(1-fpr[1])"
   ]
  },
  {
   "cell_type": "code",
   "execution_count": 9,
   "metadata": {},
   "outputs": [],
   "source": [
    "result = []\n",
    "result = pd.DataFrame(result)\n",
    "result['method'],result['accuracy'],result['sensitivity'],result['specificity']=methodList,accList,sensitivityList,specificityList\n",
    "result.to_csv('eye-tracking and others(2 vs 1).csv',index=False)"
   ]
  },
  {
   "cell_type": "code",
   "execution_count": null,
   "metadata": {},
   "outputs": [],
   "source": []
  },
  {
   "cell_type": "code",
   "execution_count": null,
   "metadata": {},
   "outputs": [],
   "source": []
  }
 ],
 "metadata": {
  "kernelspec": {
   "display_name": "Python 3",
   "language": "python",
   "name": "python3"
  },
  "language_info": {
   "codemirror_mode": {
    "name": "ipython",
    "version": 3
   },
   "file_extension": ".py",
   "mimetype": "text/x-python",
   "name": "python",
   "nbconvert_exporter": "python",
   "pygments_lexer": "ipython3",
   "version": "3.6.9"
  }
 },
 "nbformat": 4,
 "nbformat_minor": 2
}
