{
 "cells": [
  {
   "cell_type": "code",
   "execution_count": null,
   "metadata": {},
   "outputs": [],
   "source": [
    "import pandas as pd\n",
    "import numpy as np\n",
    "\n",
    "b = 'akejgrvf'\n",
    "b = b.replace(b[2],'')\n",
    "file  = pd.read_csv('natayej (2).txt',delimiter=' ', error_bad_lines=False)\n",
    "\n",
    "for i in range(len(file['-25'])):\n",
    "    try:\n",
    "        file.loc[i,'-25'] = int(file.loc[i,'-25'])\n",
    "    except:\n",
    "        print(i)\n"
   ]
  },
  {
   "cell_type": "code",
   "execution_count": null,
   "metadata": {},
   "outputs": [],
   "source": [
    "file.loc[4,'-25']"
   ]
  },
  {
   "cell_type": "code",
   "execution_count": null,
   "metadata": {},
   "outputs": [],
   "source": [
    "\n",
    "j = 0\n",
    "for el in file['(3-8)*5']:\n",
    "    i = 0\n",
    "    b = True\n",
    "    for ch in el:\n",
    "        if ch == '(':\n",
    "            b = False\n",
    "           \n",
    "        if ch == ')' :\n",
    "            if b:\n",
    "#                 print(file.loc[j, '(3-8)*5'])\n",
    "#                 print(file.loc[j, '(3-8)*5'][i],b)\n",
    "                file.loc[j, '(3-8)*5'] = str(file.loc[j, '(3-8)*5'])\n",
    "                file.loc[j, '(3-8)*5'] = file.loc[j, '(3-8)*5'][:i] + file.loc[j, '(3-8)*5'][i+1:]\n",
    "#                 print(file.loc[j, '(3-8)*5'])\n",
    "            else:\n",
    "                b = True\n",
    "            \n",
    "        i+=1\n",
    "    j += 1\n",
    "file.to_csv('natayej3.txt', index =False)"
   ]
  },
  {
   "cell_type": "code",
   "execution_count": null,
   "metadata": {},
   "outputs": [],
   "source": []
  }
 ],
 "metadata": {
  "kernelspec": {
   "display_name": "Python 3",
   "language": "python",
   "name": "python3"
  },
  "language_info": {
   "codemirror_mode": {
    "name": "ipython",
    "version": 3
   },
   "file_extension": ".py",
   "mimetype": "text/x-python",
   "name": "python",
   "nbconvert_exporter": "python",
   "pygments_lexer": "ipython3",
   "version": "3.6.7"
  }
 },
 "nbformat": 4,
 "nbformat_minor": 2
}
