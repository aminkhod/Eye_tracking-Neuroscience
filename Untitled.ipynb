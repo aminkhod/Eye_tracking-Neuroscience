{
 "cells": [
  {
   "cell_type": "code",
   "execution_count": 46,
   "metadata": {},
   "outputs": [],
   "source": [
    "import pandas as pd\n",
    "import numpy as np\n",
    "\n",
    "b = 'akejgrvf'\n",
    "b = b.replace(b[2],'')\n",
    "file  = pd.read_csv('natayej3 (1).txt',delimiter=' ', error_bad_lines=False)\n",
    "\n",
    "for i in range(len(file['-25'])):\n",
    "    file.loc[i,'-25'] = int(file.loc[i,'-25'])\n",
    "\n"
   ]
  },
  {
   "cell_type": "code",
   "execution_count": 47,
   "metadata": {},
   "outputs": [
    {
     "data": {
      "text/plain": [
       "16.0"
      ]
     },
     "execution_count": 47,
     "metadata": {},
     "output_type": "execute_result"
    }
   ],
   "source": [
    "int(file.loc[4,'-25'])"
   ]
  },
  {
   "cell_type": "code",
   "execution_count": 53,
   "metadata": {},
   "outputs": [],
   "source": [
    "\n",
    "j = 0\n",
    "for el in file['(3-8)*5']:\n",
    "    i = 0\n",
    "    b = True\n",
    "    for ch in el:\n",
    "        if ch == '(':\n",
    "            b = False\n",
    "           \n",
    "        if ch == ')' :\n",
    "            if b:\n",
    "#                 print(file.loc[j, '(3-8)*5'])\n",
    "#                 print(file.loc[j, '(3-8)*5'][i],b)\n",
    "                file.loc[j, '(3-8)*5'] = str(file.loc[j, '(3-8)*5'])\n",
    "                file.loc[j, '(3-8)*5'] = file.loc[j, '(3-8)*5'][:i] + file.loc[j, '(3-8)*5'][i+1:]\n",
    "#                 print(file.loc[j, '(3-8)*5'])\n",
    "            else:\n",
    "                b = True\n",
    "            \n",
    "        i+=1\n",
    "    j += 1\n",
    "file.to_csv('natayej3.txt', index =False)"
   ]
  },
  {
   "cell_type": "code",
   "execution_count": 51,
   "metadata": {},
   "outputs": [
    {
     "data": {
      "text/plain": [
       "0         10\n",
       "1          8\n",
       "2          4\n",
       "3         14\n",
       "4         16\n",
       "5         12\n",
       "6         13\n",
       "7         10\n",
       "8         96\n",
       "9        240\n",
       "10         0\n",
       "11         7\n",
       "12        12\n",
       "13         0\n",
       "14        18\n",
       "15        17\n",
       "16         3\n",
       "17         9\n",
       "18       120\n",
       "19       140\n",
       "20        -8\n",
       "21       135\n",
       "22        28\n",
       "23        22\n",
       "24         4\n",
       "25        49\n",
       "26        35\n",
       "27         5\n",
       "28        27\n",
       "29         0\n",
       "        ... \n",
       "29969     -9\n",
       "29970    -24\n",
       "29971      9\n",
       "29972     10\n",
       "29973     44\n",
       "29974     -6\n",
       "29975    504\n",
       "29976     13\n",
       "29977     -5\n",
       "29978     12\n",
       "29979     10\n",
       "29980      6\n",
       "29981     52\n",
       "29982     13\n",
       "29983     20\n",
       "29984     12\n",
       "29985     45\n",
       "29986     45\n",
       "29987     16\n",
       "29988      6\n",
       "29989     -2\n",
       "29990      0\n",
       "29991     -4\n",
       "29992     43\n",
       "29993      0\n",
       "29994      0\n",
       "29995     22\n",
       "29996     -9\n",
       "29997     -1\n",
       "29998      0\n",
       "Name: -25, Length: 29999, dtype: int32"
      ]
     },
     "execution_count": 51,
     "metadata": {},
     "output_type": "execute_result"
    }
   ],
   "source": [
    "\n",
    "y = file['-25']\n",
    "y = y.astype(np.int)\n",
    "file['-25'] = y\n",
    "file['-25']"
   ]
  }
 ],
 "metadata": {
  "kernelspec": {
   "display_name": "Python 3",
   "language": "python",
   "name": "python3"
  },
  "language_info": {
   "codemirror_mode": {
    "name": "ipython",
    "version": 3
   },
   "file_extension": ".py",
   "mimetype": "text/x-python",
   "name": "python",
   "nbconvert_exporter": "python",
   "pygments_lexer": "ipython3",
   "version": "3.6.7"
  }
 },
 "nbformat": 4,
 "nbformat_minor": 2
}
