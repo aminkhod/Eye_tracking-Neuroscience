{
 "cells": [
  {
   "cell_type": "markdown",
   "metadata": {},
   "source": [
    "Fibonacci sequence"
   ]
  },
  {
   "cell_type": "code",
   "execution_count": 6,
   "metadata": {},
   "outputs": [
    {
     "name": "stdout",
     "output_type": "stream",
     "text": [
      "[1, 1, 2, 3, 5, 8, 13, 21, 34, 55]\n"
     ]
    }
   ],
   "source": [
    "a=[1,1]\n",
    "for i in range(2,10):\n",
    "    a.insert(i,a[i-1]+a[i-2])\n",
    "print(a)    "
   ]
  },
  {
   "cell_type": "markdown",
   "metadata": {},
   "source": [
    "mean score"
   ]
  },
  {
   "cell_type": "code",
   "execution_count": 2,
   "metadata": {},
   "outputs": [
    {
     "name": "stdout",
     "output_type": "stream",
     "text": [
      "16.307692307692307\n"
     ]
    },
    {
     "data": {
      "text/plain": [
       "{'course': '[mathematics,science,french,art]',\n",
       " 'unit': [4, 4, 3, 2],\n",
       " 'score': [20, 10, 18, 19]}"
      ]
     },
     "execution_count": 2,
     "metadata": {},
     "output_type": "execute_result"
    }
   ],
   "source": [
    "import numpy as np\n",
    "student={\"course\":\"[mathematics,science,french,art]\",\n",
    "     \"unit\":[4,4,3,2],\n",
    "        \"score\":[20,10,18,19]}\n",
    "student\n",
    "x=student[\"score\"]\n",
    "y=student[\"unit\"]\n",
    "z=[]\n",
    "for i in range(4):\n",
    "    z.insert(i,x[i]*y[i]) \n",
    "score_sum=np.sum(z)\n",
    "unit_sum=np.sum(y)\n",
    "mean=score_sum/unit_sum\n",
    "print(mean)\n",
    "student"
   ]
  },
  {
   "cell_type": "code",
   "execution_count": null,
   "metadata": {},
   "outputs": [],
   "source": []
  }
 ],
 "metadata": {
  "kernelspec": {
   "display_name": "Python 3",
   "language": "python",
   "name": "python3"
  },
  "language_info": {
   "codemirror_mode": {
    "name": "ipython",
    "version": 3
   },
   "file_extension": ".py",
   "mimetype": "text/x-python",
   "name": "python",
   "nbconvert_exporter": "python",
   "pygments_lexer": "ipython3",
   "version": "3.6.7"
  }
 },
 "nbformat": 4,
 "nbformat_minor": 2
}
