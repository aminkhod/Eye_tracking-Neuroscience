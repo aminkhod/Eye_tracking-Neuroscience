{
 "cells": [
  {
   "cell_type": "code",
   "execution_count": 24,
   "metadata": {},
   "outputs": [
    {
     "data": {
      "text/plain": [
       "'akjgrvf'"
      ]
     },
     "execution_count": 24,
     "metadata": {},
     "output_type": "execute_result"
    }
   ],
   "source": [
    "import pandas as pd\n",
    "b = 'akejgrvf'\n",
    "b = b.replace(b[2],'')\n",
    "b"
   ]
  },
  {
   "cell_type": "code",
   "execution_count": 32,
   "metadata": {},
   "outputs": [],
   "source": [
    "file  = pd.read_csv('natayej (2).txt',delimiter=' ')\n",
    "j = 0\n",
    "for el in file['(3-8)*5']:\n",
    "    i = 0\n",
    "    b = False\n",
    "    \n",
    "    for ch in el:\n",
    "        if ch == '(':\n",
    "            b = True\n",
    "        if ch == ')' and b:\n",
    "            print(file.loc[j, '(3-8)*5'])\n",
    "            file.loc[j, '(3-8)*5'] = str(file.loc[j, '(3-8)*5'])\n",
    "            file.loc[j, '(3-8)*5'] = file.loc[j, '(3-8)*5'].replace(str(file.iloc[i,j]),'')\n",
    "        else:\n",
    "            b = False\n",
    "        i+=1\n",
    "    j += 1"
   ]
  },
  {
   "cell_type": "code",
   "execution_count": null,
   "metadata": {},
   "outputs": [],
   "source": []
  }
 ],
 "metadata": {
  "kernelspec": {
   "display_name": "Python 3",
   "language": "python",
   "name": "python3"
  },
  "language_info": {
   "codemirror_mode": {
    "name": "ipython",
    "version": 3
   },
   "file_extension": ".py",
   "mimetype": "text/x-python",
   "name": "python",
   "nbconvert_exporter": "python",
   "pygments_lexer": "ipython3",
   "version": "3.6.7"
  }
 },
 "nbformat": 4,
 "nbformat_minor": 2
}
